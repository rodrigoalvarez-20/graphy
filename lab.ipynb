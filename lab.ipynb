{
 "cells": [
  {
   "cell_type": "code",
   "execution_count": 36,
   "id": "ae777237",
   "metadata": {},
   "outputs": [],
   "source": [
    "import os\n",
    "from classes.graph import Graph\n",
    "from utils.common import kruskal_direct, prim_alg, kruskal_inverse\n"
   ]
  },
  {
   "cell_type": "code",
   "execution_count": 37,
   "id": "e72bccd0",
   "metadata": {},
   "outputs": [],
   "source": [
    "GRAPH_TYPE = \"dorogov\"\n",
    "GRAPH_SIZE = \"large\"\n",
    "base_graph = Graph(\"{}_GRAPH_{}\".format(GRAPH_TYPE.upper(), GRAPH_SIZE.upper()))\n",
    "kruskal_direct_graph = Graph(\"{}_GRAPH_KRUSKAL_DIRECT_{}\".format(GRAPH_TYPE.upper(), GRAPH_SIZE.upper()))\n",
    "kruskal_inverse_graph = Graph(\"{}_GRAPH_KRUSKAL_INVERSE_{}\".format(GRAPH_TYPE.upper(), GRAPH_SIZE.upper()))\n",
    "prim_graph = Graph(\"{}_GRAPH_PRIM_{}\".format(GRAPH_TYPE.upper(), GRAPH_SIZE.upper()))"
   ]
  },
  {
   "cell_type": "code",
   "execution_count": 38,
   "id": "ae0b924e",
   "metadata": {},
   "outputs": [
    {
     "name": "stdout",
     "output_type": "stream",
     "text": [
      "Iniciando PRIM desde nodo: DOROGOV_GRAPH_NODE_0\n"
     ]
    }
   ],
   "source": [
    "base_graph.create_dorogov_graph(890)\n",
    "start_node = list(base_graph.nodes.keys())[0]\n",
    "kruskal_direct(kruskal_direct_graph, base_graph)\n",
    "kruskal_inverse(kruskal_inverse_graph, base_graph)\n",
    "print(\"Iniciando PRIM desde nodo:\", start_node)\n",
    "prim_alg(prim_graph, base_graph, start_node)"
   ]
  },
  {
   "cell_type": "code",
   "execution_count": 39,
   "id": "ef1707db",
   "metadata": {},
   "outputs": [
    {
     "data": {
      "text/plain": [
       "(1777, 2)"
      ]
     },
     "execution_count": 39,
     "metadata": {},
     "output_type": "execute_result"
    }
   ],
   "source": [
    "len(base_graph.edges), len(prim_graph.edges)"
   ]
  },
  {
   "cell_type": "code",
   "execution_count": 40,
   "id": "5ac872e3",
   "metadata": {},
   "outputs": [],
   "source": [
    "base_path = os.path.join(\"graphs\", GRAPH_TYPE, \"kruskal_prim\")\n",
    "os.makedirs(base_path, exist_ok=True)\n",
    "bg_filename = \"{}_{}.gv\".format(GRAPH_TYPE, GRAPH_SIZE)\n",
    "kruskal_direct_filename = \"{}_{}_kruskal_direct.gv\".format(GRAPH_TYPE, GRAPH_SIZE)\n",
    "kruskal_inverse_filename = \"{}_{}_kruskal_inverse.gv\".format(GRAPH_TYPE, GRAPH_SIZE)\n",
    "prim_filename = \"{}_{}_prim.gv\".format(GRAPH_TYPE, GRAPH_SIZE)\n",
    "base_graph.export_to_graphviz_file(os.path.join(base_path, bg_filename))\n",
    "kruskal_direct_graph.export_to_graphviz_file(os.path.join(base_path, kruskal_direct_filename))\n",
    "kruskal_inverse_graph.export_to_graphviz_file(os.path.join(base_path, kruskal_inverse_filename))\n",
    "prim_graph.export_to_graphviz_file(os.path.join(base_path, prim_filename))"
   ]
  }
 ],
 "metadata": {
  "kernelspec": {
   "display_name": "PyFormers + CUDA",
   "language": "python",
   "name": "dev-kernel-v2"
  },
  "language_info": {
   "codemirror_mode": {
    "name": "ipython",
    "version": 3
   },
   "file_extension": ".py",
   "mimetype": "text/x-python",
   "name": "python",
   "nbconvert_exporter": "python",
   "pygments_lexer": "ipython3",
   "version": "3.11.2"
  }
 },
 "nbformat": 4,
 "nbformat_minor": 5
}
