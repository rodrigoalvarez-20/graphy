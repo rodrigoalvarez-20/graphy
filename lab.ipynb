{
 "cells": [
  {
   "cell_type": "code",
   "execution_count": 14,
   "id": "ae777237",
   "metadata": {},
   "outputs": [],
   "source": [
    "import numpy as np\n",
    "from classes.edge import Edge\n",
    "from classes.node import Node\n",
    "from classes.graph import Graph"
   ]
  },
  {
   "cell_type": "code",
   "execution_count": 15,
   "id": "2ca114d7",
   "metadata": {},
   "outputs": [],
   "source": [
    "graph = Graph(\"DOROGOV_GRAPH\")"
   ]
  },
  {
   "cell_type": "code",
   "execution_count": 16,
   "id": "a735d38d",
   "metadata": {},
   "outputs": [],
   "source": [
    "graph.create_dorogov_graph(500)"
   ]
  },
  {
   "cell_type": "code",
   "execution_count": 17,
   "id": "61c97862",
   "metadata": {},
   "outputs": [],
   "source": [
    "graph.export_to_graphviz_file(\"./graphs/dorogov/large.gv\")"
   ]
  }
 ],
 "metadata": {
  "kernelspec": {
   "display_name": ".venv",
   "language": "python",
   "name": "python3"
  },
  "language_info": {
   "codemirror_mode": {
    "name": "ipython",
    "version": 3
   },
   "file_extension": ".py",
   "mimetype": "text/x-python",
   "name": "python",
   "nbconvert_exporter": "python",
   "pygments_lexer": "ipython3",
   "version": "3.12.5"
  }
 },
 "nbformat": 4,
 "nbformat_minor": 5
}
