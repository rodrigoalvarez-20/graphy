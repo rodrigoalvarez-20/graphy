{
 "cells": [
  {
   "cell_type": "code",
   "execution_count": 31,
   "id": "ae777237",
   "metadata": {},
   "outputs": [],
   "source": [
    "import os\n",
    "from classes.graph import Graph\n",
    "from utils.common import BFS, DFS"
   ]
  },
  {
   "cell_type": "code",
   "execution_count": 32,
   "id": "e72bccd0",
   "metadata": {},
   "outputs": [],
   "source": [
    "GRAPH_TYPE = \"dorogov\"\n",
    "GRAPH_SIZE = \"large\"\n",
    "base_graph = Graph(\"{}_GRAPH\".format(GRAPH_TYPE.upper()))\n",
    "bfs_graph = Graph(\"{}_GRAPH_BFS\".format(GRAPH_TYPE.upper()))\n",
    "dfs_rec_graph = Graph(\"{}_GRAPH_DFS_R\".format(GRAPH_TYPE.upper()))"
   ]
  },
  {
   "cell_type": "code",
   "execution_count": 33,
   "id": "ae0b924e",
   "metadata": {},
   "outputs": [
    {
     "name": "stdout",
     "output_type": "stream",
     "text": [
      "Starting BFS\n",
      "BFS Finish\n",
      "Starting DFS - Rec\n",
      "DFS finished.\n"
     ]
    }
   ],
   "source": [
    "base_graph.create_dorogov_graph(500)\n",
    "BFS(bfs_graph, base_graph)\n",
    "DFS(dfs_rec_graph, base_graph, 0)\n",
    "\n"
   ]
  },
  {
   "cell_type": "code",
   "execution_count": 34,
   "id": "8c499cbf",
   "metadata": {},
   "outputs": [],
   "source": [
    "base_path = os.path.join(\"graphs\", GRAPH_TYPE, \"bfs\")\n",
    "os.makedirs(base_path, exist_ok=True)\n",
    "bg_filename = \"{}_{}.gv\".format(GRAPH_TYPE, GRAPH_SIZE)\n",
    "bfs_filename = \"{}_{}_bfs.gv\".format(GRAPH_TYPE, GRAPH_SIZE)\n",
    "dfs_rec_filename = \"{}_{}_dfs_rec.gv\".format(GRAPH_TYPE, GRAPH_SIZE)\n"
   ]
  },
  {
   "cell_type": "code",
   "execution_count": 35,
   "id": "3f0d437b",
   "metadata": {},
   "outputs": [],
   "source": [
    "base_graph.export_to_graphviz_file(os.path.join(base_path, bg_filename))\n",
    "bfs_graph.export_to_graphviz_file(os.path.join(base_path, bfs_filename))\n",
    "dfs_rec_graph.export_to_graphviz_file(os.path.join(base_path, dfs_rec_filename))"
   ]
  }
 ],
 "metadata": {
  "kernelspec": {
   "display_name": ".venv",
   "language": "python",
   "name": "python3"
  },
  "language_info": {
   "codemirror_mode": {
    "name": "ipython",
    "version": 3
   },
   "file_extension": ".py",
   "mimetype": "text/x-python",
   "name": "python",
   "nbconvert_exporter": "python",
   "pygments_lexer": "ipython3",
   "version": "3.12.5"
  }
 },
 "nbformat": 4,
 "nbformat_minor": 5
}
