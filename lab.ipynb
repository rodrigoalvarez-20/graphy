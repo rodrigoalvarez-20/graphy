{
 "cells": [
  {
   "cell_type": "code",
   "execution_count": 9,
   "id": "ae777237",
   "metadata": {},
   "outputs": [],
   "source": [
    "import os\n",
    "from classes.graph import Graph\n",
    "from utils.common import dijkstra"
   ]
  },
  {
   "cell_type": "markdown",
   "id": "2a4f21ab",
   "metadata": {},
   "source": []
  },
  {
   "cell_type": "code",
   "execution_count": 10,
   "id": "e72bccd0",
   "metadata": {},
   "outputs": [],
   "source": [
    "GRAPH_TYPE = \"dorogov\"\n",
    "GRAPH_SIZE = \"large\"\n",
    "base_graph = Graph(\"{}_GRAPH\".format(GRAPH_TYPE.upper()))\n",
    "djk_graph = Graph(\"{}_GRAPH_DIJKSTRA\".format(GRAPH_TYPE.upper()))"
   ]
  },
  {
   "cell_type": "code",
   "execution_count": 11,
   "id": "ae0b924e",
   "metadata": {},
   "outputs": [
    {
     "name": "stdout",
     "output_type": "stream",
     "text": [
      "Dijkstra start node: DOROGOV_GRAPH_NODE_707\n"
     ]
    }
   ],
   "source": [
    "base_graph.create_dorogov_graph(900)\n",
    "dijkstra(djk_graph, base_graph)"
   ]
  },
  {
   "cell_type": "code",
   "execution_count": 12,
   "id": "5ac872e3",
   "metadata": {},
   "outputs": [],
   "source": [
    "base_path = os.path.join(\"graphs\", GRAPH_TYPE, \"dijkstra\")\n",
    "os.makedirs(base_path, exist_ok=True)\n",
    "bg_filename = \"{}_{}.gv\".format(GRAPH_TYPE, GRAPH_SIZE)\n",
    "djk_filename = \"{}_{}_dijkstra.gv\".format(GRAPH_TYPE, GRAPH_SIZE)\n",
    "base_graph.export_to_graphviz_file(os.path.join(base_path, bg_filename))\n",
    "djk_graph.export_to_graphviz_file(os.path.join(base_path, djk_filename))"
   ]
  }
 ],
 "metadata": {
  "kernelspec": {
   "display_name": ".venv",
   "language": "python",
   "name": "python3"
  },
  "language_info": {
   "codemirror_mode": {
    "name": "ipython",
    "version": 3
   },
   "file_extension": ".py",
   "mimetype": "text/x-python",
   "name": "python",
   "nbconvert_exporter": "python",
   "pygments_lexer": "ipython3",
   "version": "3.12.5"
  }
 },
 "nbformat": 4,
 "nbformat_minor": 5
}
